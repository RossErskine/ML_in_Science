{
 "cells": [
  {
   "cell_type": "markdown",
   "id": "2ad57bdb",
   "metadata": {},
   "source": [
    "# K-Means"
   ]
  },
  {
   "cell_type": "code",
   "execution_count": 1,
   "id": "2163f3be",
   "metadata": {},
   "outputs": [
    {
     "data": {
      "text/plain": [
       "array([[2.7, 3. ],\n",
       "       [4.2, 2.5],\n",
       "       [1.5, 3. ],\n",
       "       [3.1, 2. ],\n",
       "       [1.6, 1.2],\n",
       "       [3.7, 1.8],\n",
       "       [1.1, 1. ]])"
      ]
     },
     "execution_count": 1,
     "metadata": {},
     "output_type": "execute_result"
    }
   ],
   "source": [
    "import numpy as np\n",
    "X = np.array([[2.7, 3],[4.2,2.5],[1.5,3],[3.1, 2],[1.6, 1.2],[3.7, 1.8],[1.1,1]])\n",
    "X"
   ]
  },
  {
   "cell_type": "code",
   "execution_count": 2,
   "id": "c6b369db",
   "metadata": {},
   "outputs": [
    {
     "data": {
      "text/plain": [
       "array([[1.4, 1.7],\n",
       "       [2.5, 1.3],\n",
       "       [3. , 1.3]])"
      ]
     },
     "execution_count": 2,
     "metadata": {},
     "output_type": "execute_result"
    }
   ],
   "source": [
    "mu = np.array([[1.4, 1.7],[2.5, 1.3],[3.0, 1.3]])\n",
    "mu"
   ]
  },
  {
   "cell_type": "markdown",
   "id": "fbc7f1cc",
   "metadata": {},
   "source": [
    "# Iteration 1"
   ]
  },
  {
   "cell_type": "code",
   "execution_count": 3,
   "id": "9bfaabd8",
   "metadata": {},
   "outputs": [
    {
     "data": {
      "text/plain": [
       "array([[1.69, 1.69],\n",
       "       [7.84, 0.64],\n",
       "       [0.01, 1.69],\n",
       "       [2.89, 0.09],\n",
       "       [0.04, 0.25],\n",
       "       [5.29, 0.01],\n",
       "       [0.09, 0.49]])"
      ]
     },
     "execution_count": 3,
     "metadata": {},
     "output_type": "execute_result"
    }
   ],
   "source": [
    "d1 = (X-mu[0])**2\n",
    "d1"
   ]
  },
  {
   "cell_type": "code",
   "execution_count": 4,
   "id": "2dc76d82",
   "metadata": {},
   "outputs": [
    {
     "data": {
      "text/plain": [
       "array([[0.04, 2.89],\n",
       "       [2.89, 1.44],\n",
       "       [1.  , 2.89],\n",
       "       [0.36, 0.49],\n",
       "       [0.81, 0.01],\n",
       "       [1.44, 0.25],\n",
       "       [1.96, 0.09]])"
      ]
     },
     "execution_count": 4,
     "metadata": {},
     "output_type": "execute_result"
    }
   ],
   "source": [
    "d2 = (X-mu[1])**2\n",
    "d2"
   ]
  },
  {
   "cell_type": "code",
   "execution_count": 5,
   "id": "6d8ca80d",
   "metadata": {},
   "outputs": [
    {
     "data": {
      "text/plain": [
       "array([[0.09, 2.89],\n",
       "       [1.44, 1.44],\n",
       "       [2.25, 2.89],\n",
       "       [0.01, 0.49],\n",
       "       [1.96, 0.01],\n",
       "       [0.49, 0.25],\n",
       "       [3.61, 0.09]])"
      ]
     },
     "execution_count": 5,
     "metadata": {},
     "output_type": "execute_result"
    }
   ],
   "source": [
    "d3 = (X-mu[2])**2\n",
    "d3"
   ]
  },
  {
   "cell_type": "code",
   "execution_count": 6,
   "id": "f9d30213",
   "metadata": {},
   "outputs": [
    {
     "name": "stdout",
     "output_type": "stream",
     "text": [
      "3.380000000000001\n",
      "8.480000000000002\n",
      "1.7000000000000002\n",
      "2.9800000000000004\n",
      "0.2900000000000001\n",
      "5.300000000000001\n",
      "0.5799999999999998\n"
     ]
    }
   ],
   "source": [
    "for i in range(7):\n",
    "    ...:     print(d1[i][0]+d1[i][1])"
   ]
  },
  {
   "cell_type": "code",
   "execution_count": 7,
   "id": "a2615645",
   "metadata": {},
   "outputs": [
    {
     "name": "stdout",
     "output_type": "stream",
     "text": [
      "2.9299999999999997\n",
      "4.33\n",
      "3.8899999999999997\n",
      "0.8500000000000001\n",
      "0.8199999999999998\n",
      "1.6900000000000004\n",
      "2.05\n"
     ]
    }
   ],
   "source": [
    "for i in range(7):\n",
    "    ...:     print(d2[i][0]+d2[i][1])\n"
   ]
  },
  {
   "cell_type": "code",
   "execution_count": 8,
   "id": "678ede0b",
   "metadata": {},
   "outputs": [
    {
     "name": "stdout",
     "output_type": "stream",
     "text": [
      "2.9799999999999995\n",
      "2.8800000000000003\n",
      "5.14\n",
      "0.49999999999999994\n",
      "1.9699999999999998\n",
      "0.7400000000000002\n",
      "3.6999999999999997\n"
     ]
    }
   ],
   "source": [
    "for i in range(7):\n",
    "    ...:     print(d3[i][0]+d3[i][1])\n"
   ]
  },
  {
   "cell_type": "code",
   "execution_count": 9,
   "id": "5321c6a0",
   "metadata": {},
   "outputs": [],
   "source": [
    "s1 = np.array([[1.5,3],[1.6, 1.2],[1.1,1]])\n",
    "mu[0]= s1.mean(axis=0)"
   ]
  },
  {
   "cell_type": "code",
   "execution_count": 10,
   "id": "754295df",
   "metadata": {},
   "outputs": [],
   "source": [
    "s2 = np.array([[2.7,3]])\n",
    "mu[1]=s2.mean(axis=0)"
   ]
  },
  {
   "cell_type": "code",
   "execution_count": 11,
   "id": "90f1f74f",
   "metadata": {},
   "outputs": [],
   "source": [
    "s3 = np.array([[4.2, 2.5],[3.1, 2],[3.7, 1.8]])\n",
    "mu[2]=s3.mean(axis=0)"
   ]
  },
  {
   "cell_type": "code",
   "execution_count": 12,
   "id": "8fe1d131",
   "metadata": {},
   "outputs": [
    {
     "data": {
      "text/plain": [
       "array([[1.4       , 1.73333333],\n",
       "       [2.7       , 3.        ],\n",
       "       [3.66666667, 2.1       ]])"
      ]
     },
     "execution_count": 12,
     "metadata": {},
     "output_type": "execute_result"
    }
   ],
   "source": [
    "mu"
   ]
  },
  {
   "cell_type": "markdown",
   "id": "49b168cd",
   "metadata": {},
   "source": [
    "# Iteration 2"
   ]
  },
  {
   "cell_type": "code",
   "execution_count": 13,
   "id": "d1b3a3f7",
   "metadata": {},
   "outputs": [
    {
     "data": {
      "text/plain": [
       "array([[1.69000000e+00, 1.60444444e+00],\n",
       "       [7.84000000e+00, 5.87777778e-01],\n",
       "       [1.00000000e-02, 1.60444444e+00],\n",
       "       [2.89000000e+00, 7.11111111e-02],\n",
       "       [4.00000000e-02, 2.84444444e-01],\n",
       "       [5.29000000e+00, 4.44444444e-03],\n",
       "       [9.00000000e-02, 5.37777778e-01]])"
      ]
     },
     "execution_count": 13,
     "metadata": {},
     "output_type": "execute_result"
    }
   ],
   "source": [
    "d1 = (X-mu[0])**2\n",
    "d1"
   ]
  },
  {
   "cell_type": "code",
   "execution_count": 15,
   "id": "184567d4",
   "metadata": {},
   "outputs": [
    {
     "data": {
      "text/plain": [
       "array([[0.  , 0.  ],\n",
       "       [2.25, 0.25],\n",
       "       [1.44, 0.  ],\n",
       "       [0.16, 1.  ],\n",
       "       [1.21, 3.24],\n",
       "       [1.  , 1.44],\n",
       "       [2.56, 4.  ]])"
      ]
     },
     "execution_count": 15,
     "metadata": {},
     "output_type": "execute_result"
    }
   ],
   "source": [
    "d2 = (X-mu[1])**2\n",
    "d2"
   ]
  },
  {
   "cell_type": "code",
   "execution_count": 16,
   "id": "dfd6f799",
   "metadata": {},
   "outputs": [
    {
     "data": {
      "text/plain": [
       "array([[9.34444444e-01, 8.10000000e-01],\n",
       "       [2.84444444e-01, 1.60000000e-01],\n",
       "       [4.69444444e+00, 8.10000000e-01],\n",
       "       [3.21111111e-01, 1.00000000e-02],\n",
       "       [4.27111111e+00, 8.10000000e-01],\n",
       "       [1.11111111e-03, 9.00000000e-02],\n",
       "       [6.58777778e+00, 1.21000000e+00]])"
      ]
     },
     "execution_count": 16,
     "metadata": {},
     "output_type": "execute_result"
    }
   ],
   "source": [
    "d3 = (X-mu[2])**2\n",
    "d3"
   ]
  },
  {
   "cell_type": "code",
   "execution_count": 18,
   "id": "84e769db",
   "metadata": {},
   "outputs": [
    {
     "name": "stdout",
     "output_type": "stream",
     "text": [
      "3.2944444444444443\n",
      "8.427777777777777\n",
      "1.6144444444444443\n",
      "2.961111111111111\n",
      "0.32444444444444454\n",
      "5.294444444444443\n",
      "0.627777777777778\n"
     ]
    }
   ],
   "source": [
    "for i in range(7):\n",
    "     print(d1[i][0]+d1[i][1])\n"
   ]
  },
  {
   "cell_type": "code",
   "execution_count": 19,
   "id": "e63ce561",
   "metadata": {},
   "outputs": [
    {
     "name": "stdout",
     "output_type": "stream",
     "text": [
      "0.0\n",
      "2.5\n",
      "1.4400000000000004\n",
      "1.16\n",
      "4.45\n",
      "2.44\n",
      "6.5600000000000005\n"
     ]
    }
   ],
   "source": [
    "for i in range(7):\n",
    "    print(d2[i][0]+d2[i][1])\n"
   ]
  },
  {
   "cell_type": "code",
   "execution_count": 20,
   "id": "f8d5dece",
   "metadata": {},
   "outputs": [
    {
     "name": "stdout",
     "output_type": "stream",
     "text": [
      "1.7444444444444436\n",
      "0.4444444444444447\n",
      "5.504444444444443\n",
      "0.33111111111111086\n",
      "5.0811111111111105\n",
      "0.09111111111111116\n",
      "7.797777777777776\n"
     ]
    }
   ],
   "source": [
    "for i in range(7):\n",
    "    print(d3[i][0]+d3[i][1])"
   ]
  },
  {
   "cell_type": "code",
   "execution_count": 21,
   "id": "0e10aa18",
   "metadata": {},
   "outputs": [],
   "source": [
    "s1 = np.array([[1.6, 1.2],[1.1, 1]])\n",
    "mu[0]=s1.mean(axis=0)"
   ]
  },
  {
   "cell_type": "code",
   "execution_count": 22,
   "id": "af449238",
   "metadata": {},
   "outputs": [],
   "source": [
    "s2 = np.array([[2.7,3],[1.5, 3]])\n",
    "mu[1]=s2.mean(axis=0)"
   ]
  },
  {
   "cell_type": "code",
   "execution_count": 23,
   "id": "a80056ff",
   "metadata": {},
   "outputs": [],
   "source": [
    "s3 = np.array([[4.2,2.5],[3.1,2],[3.7,1.8]])\n",
    "mu[2]=s3.mean(axis=0)"
   ]
  },
  {
   "cell_type": "code",
   "execution_count": 24,
   "id": "27d87da1",
   "metadata": {},
   "outputs": [
    {
     "data": {
      "text/plain": [
       "array([[1.35      , 1.1       ],\n",
       "       [2.1       , 3.        ],\n",
       "       [3.66666667, 2.1       ]])"
      ]
     },
     "execution_count": 24,
     "metadata": {},
     "output_type": "execute_result"
    }
   ],
   "source": [
    "mu"
   ]
  },
  {
   "cell_type": "code",
   "execution_count": null,
   "id": "21163f52",
   "metadata": {},
   "outputs": [],
   "source": []
  }
 ],
 "metadata": {
  "kernelspec": {
   "display_name": "Python 3",
   "language": "python",
   "name": "python3"
  },
  "language_info": {
   "codemirror_mode": {
    "name": "ipython",
    "version": 3
   },
   "file_extension": ".py",
   "mimetype": "text/x-python",
   "name": "python",
   "nbconvert_exporter": "python",
   "pygments_lexer": "ipython3",
   "version": "3.8.8"
  }
 },
 "nbformat": 4,
 "nbformat_minor": 5
}
